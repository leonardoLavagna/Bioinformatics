{
  "cells": [
    {
      "cell_type": "markdown",
      "metadata": {
        "id": "view-in-github",
        "colab_type": "text"
      },
      "source": [
        "<a href=\"https://colab.research.google.com/github/leonardoLavagna/Drug-repurposing/blob/main/BI_main.ipynb\" target=\"_parent\"><img src=\"https://colab.research.google.com/assets/colab-badge.svg\" alt=\"Open In Colab\"/></a>"
      ]
    },
    {
      "cell_type": "markdown",
      "metadata": {
        "id": "MB2jks_equ2c"
      },
      "source": [
        "# General Set up"
      ]
    },
    {
      "cell_type": "code",
      "execution_count": null,
      "metadata": {
        "collapsed": true,
        "id": "fCdtOo_CWTkk"
      },
      "outputs": [],
      "source": [
        "# NEEDED FILES\n",
        "\n",
        "\"\"\"\n",
        "All the files are available at https://github.com/leonardoLavagna/Drug-repurposing\n",
        "except for 2. which is available at https://downloads.thebiogrid.org/BioGRID and\n",
        "3. which is available at https://www.disgenet.org/downloads.\n",
        "\n",
        "1. auxiliary_functions.py\n",
        "2. BIOGRID-ORGANISM-Homo_sapiens-4.4.204.tab3.txt\n",
        "3. curated_gene_disease_associations.tsv\n",
        "4. dgidb_final.tsv\n",
        "5. DIaBLE.py\n",
        "6. DIAMOnD.py\n",
        "7. diff_res.txt\n",
        "8. FinalAllSeeds.csv\n",
        "9. First200AllSeeds.txt\n",
        "\"\"\""
      ]
    },
    {
      "cell_type": "code",
      "execution_count": null,
      "metadata": {
        "collapsed": true,
        "id": "APq8Tz0PWwbt"
      },
      "outputs": [],
      "source": [
        "# IMPORTANT FILES CREATED AND OFTEN USED\n",
        "\n",
        "\"\"\"\n",
        "1. Hypertensive disease_seed_gene.txt: seed genes for our disease of study\n",
        "2. Hypertensive disease_splits.json: seed genes'splits for cross validation\n",
        "3. PPI_Hypertensive.txt: protein-protien interaction\n",
        "4. cross{i}.txt: training sets in cross validation\n",
        "5. probeset{i}.txt: probe sets in cross validation\n",
        "6. alg_name_results_tot.txt: results of each algorithm (DIAMOnD or DIaBLE)\n",
        "7. ResDiffusionCross{}_t={}: results of diffusion algorithm\n",
        "8. splits.json: seed gene's splits in json format\n",
        "\"\"\""
      ]
    },
    {
      "cell_type": "code",
      "execution_count": null,
      "metadata": {
        "collapsed": true,
        "id": "1-0EkQfCVqQW"
      },
      "outputs": [],
      "source": [
        "# GLOBAL VARIABLES NAMES\n",
        "\n",
        "\"\"\"\n",
        "CX: cytoscape type of network \n",
        "DGA: disease gene association\n",
        "DN: disease network\n",
        "G: disease Network large connected component\n",
        "HSN: homo sapiens interactome\n",
        "LCC: large connected component in HSN\n",
        "seeds: seed gene' symbols\n",
        "\"\"\""
      ]
    },
    {
      "cell_type": "code",
      "execution_count": null,
      "metadata": {
        "id": "IyBEndFwwnwH"
      },
      "outputs": [],
      "source": [
        "# REFERENCE CODE FOR DIAMOnD \n",
        "\n",
        "#!git clone https://github.com/dinaghiassian/DIAMOnD "
      ]
    },
    {
      "cell_type": "code",
      "source": [
        "# REFERENCE CODE FOR DIaBLE \n",
        "# Change the code in the DIAMOnD script as follows\n",
        "\n",
        "\"\"\"\n",
        "AFTER LINE 317 ADD\n",
        "\n",
        "  candidates = set(cluster_nodes)\n",
        "  universe = set()\n",
        "\n",
        "  for _ in range(0, 2):\n",
        "    for gene in candidates.copy():\n",
        "      universe |= neighbors[gene]\n",
        "    candidates = universe        \n",
        "  \n",
        "  N = len(universe)\n",
        "  \n",
        "\"\"\""
      ],
      "metadata": {
        "id": "qDR8I2OBRn_H"
      },
      "execution_count": null,
      "outputs": []
    },
    {
      "cell_type": "code",
      "execution_count": null,
      "metadata": {
        "id": "O8FzF8mcP3bg"
      },
      "outputs": [],
      "source": [
        "# IN ORDER TO USE nx.to_scipy_sparse_matrix THE PROPER VERSION OF networkx IS NEEDED\n",
        "# IF NEEDED UNINSTALL IT AND REINSTALL THE CORRECT VERSION\n",
        "# Remark . Remember to restart the kernel to apply these changes\n",
        "\n",
        "#%pip uninstall networkx\n",
        "#%pip install networkx==2.3"
      ]
    },
    {
      "cell_type": "code",
      "execution_count": null,
      "metadata": {
        "collapsed": true,
        "id": "xp0LQsv8kGTW"
      },
      "outputs": [],
      "source": [
        "# INSTALL NON-STANDARD LIBRARIES\n",
        "# See: https://github.com/GuyAllard/markov_clustering\n",
        "\n",
        "#%pip install markov_clustering "
      ]
    },
    {
      "cell_type": "code",
      "execution_count": null,
      "metadata": {
        "collapsed": true,
        "id": "Q9k5q1Cb2_Z-"
      },
      "outputs": [],
      "source": [
        "# INSTALL NON-STANDARD LIBRARIES \n",
        "#See: https://ndex2.readthedocs.io/en/latest/createnicecx.html\n",
        "\n",
        "#%pip install ndex2"
      ]
    },
    {
      "cell_type": "code",
      "execution_count": null,
      "metadata": {
        "id": "cOkMPGHjo7_w"
      },
      "outputs": [],
      "source": [
        "# MOUNT DRIVE\n",
        "# Remark . Assign colab = True when using Google Colab\n",
        "# Remark . While using Google colab remeber to collect all the needed files in\n",
        "#          the folder BI-Data in your Google Drive.\n",
        "\n",
        "import os\n",
        "colab=True\n",
        "if colab:\n",
        "    from google.colab import drive\n",
        "    drive.mount('/content/drive',force_remount=True)\n",
        "    os.chdir('/content/drive/MyDrive/BI-Data/')"
      ]
    },
    {
      "cell_type": "code",
      "execution_count": null,
      "metadata": {
        "id": "nVfF8_rdk1uA"
      },
      "outputs": [],
      "source": [
        "# DIRECTORY TREE\n",
        "# Remark . Change according to your file system.\n",
        "# Remark. This path should be the same used in the auxiliary_funtions module.\n",
        "# Remark . When using Google Colab remember that the path has been changed to \n",
        "# /content/drive/MyDrive/BI-Data/ \n",
        "\n",
        "path = './'"
      ]
    },
    {
      "cell_type": "code",
      "execution_count": null,
      "metadata": {
        "id": "4gea7gDcqpFo"
      },
      "outputs": [],
      "source": [
        "# IMPORT NEEDED LIBRARIES AND SELF DEFINED FUNCTIONS\n",
        "\n",
        "import re\n",
        "import csv\n",
        "import random\n",
        "import json\n",
        "import ast\n",
        "import sys\n",
        "import statistics\n",
        "import ndex2\n",
        "import requests\n",
        "import base64\n",
        "import auxiliary_functions as AF\n",
        "import pandas as pd\n",
        "import networkx as nx\n",
        "import matplotlib.pyplot as plt\n",
        "import numpy as np\n",
        "import markov_clustering as mc\n",
        "from tqdm import tqdm\n",
        "from scipy.stats import hypergeom"
      ]
    },
    {
      "cell_type": "markdown",
      "metadata": {
        "id": "mRbllah2A0o5"
      },
      "source": [
        "# TASK 1 . PPI and GDA data gathering and interactome reconstruction"
      ]
    },
    {
      "cell_type": "markdown",
      "metadata": {
        "id": "8dkVMfSshTjz"
      },
      "source": [
        "## Data gathering and interactome reconstruction"
      ]
    },
    {
      "cell_type": "code",
      "execution_count": null,
      "metadata": {
        "colab": {
          "base_uri": "https://localhost:8080/"
        },
        "id": "Uhof4wFsD15F",
        "outputId": "079b8338-bbe6-4779-8bfb-d2593fda3101"
      },
      "outputs": [
        {
          "output_type": "stream",
          "name": "stdout",
          "text": [
            "Processing interactome...\n"
          ]
        },
        {
          "output_type": "stream",
          "name": "stderr",
          "text": [
            "<ipython-input-7-ea389ed6b4af>:3: DtypeWarning: Columns (1,2,18) have mixed types.Specify dtype option on import or set low_memory=False.\n",
            "  HSN = AF.interactome_processing(path+\"BIOGRID-ORGANISM-Homo_sapiens-4.4.204.tab3.txt\")\n"
          ]
        },
        {
          "output_type": "stream",
          "name": "stdout",
          "text": [
            "# Process completed.\n"
          ]
        }
      ],
      "source": [
        "# DATA GATHERING AND PROCESSING\n",
        "\n",
        "HSN = AF.interactome_processing(path+\"BIOGRID-ORGANISM-Homo_sapiens-4.4.204.tab3.txt\")\n",
        "DGA_all = pd.read_csv(path+'curated_gene_disease_associations.tsv',sep='\\t')\n",
        "DGA =  DGA_all[DGA_all['diseaseName'] == 'Hypertensive disease']\n",
        "DGA = AF.DGA_processing(path+'curated_gene_disease_associations.tsv', 'Hypertensive disease')"
      ]
    },
    {
      "cell_type": "code",
      "execution_count": null,
      "metadata": {
        "colab": {
          "base_uri": "https://localhost:8080/"
        },
        "id": "1Gnn2uypkVr9",
        "outputId": "1a2b46dd-744b-44f5-97f8-7b56cc3121b5"
      },
      "outputs": [
        {
          "output_type": "stream",
          "name": "stdout",
          "text": [
            "Creating seed gene splits...\n",
            "Number of genes in disease PPI:  290\n",
            "# Process completed.\n",
            "Importing seed genes...\n",
            "# Process completed.\n"
          ]
        }
      ],
      "source": [
        "# CREATE INTERACTOME AND SPLITS\n",
        "# Remark . If the file 'Hypertensive disease_splits' has not been created\n",
        "#          uncomment the following line\n",
        "\n",
        "DG_in_PPI,splits = AF.make_seeds_splits(DGA,HSN,'Hypertensive disease',path)\n",
        "DG_in_PPI, splits = AF.import_seeds_split('Hypertensive disease')"
      ]
    },
    {
      "cell_type": "markdown",
      "metadata": {
        "id": "IuiA9iw0halS"
      },
      "source": [
        "## Compute the disease LCC and its basic network measures"
      ]
    },
    {
      "cell_type": "code",
      "execution_count": null,
      "metadata": {
        "colab": {
          "base_uri": "https://localhost:8080/"
        },
        "id": "kqFIzXjThdNg",
        "outputId": "48bb8def-acc2-4613-92cd-e4cfacc4189d"
      },
      "outputs": [
        {
          "output_type": "stream",
          "name": "stdout",
          "text": [
            "Extracting LCC...\n",
            "Nodes  19618 , Connections  665061\n",
            "# Process completed.\n"
          ]
        }
      ],
      "source": [
        "# LCC OF HSN COMPUTATION\n",
        "\n",
        "LCC = AF.extract_LCC_form_PPI(HSN)"
      ]
    },
    {
      "cell_type": "code",
      "execution_count": null,
      "metadata": {
        "colab": {
          "base_uri": "https://localhost:8080/",
          "height": 734
        },
        "id": "aR1AI341EkvQ",
        "outputId": "a19dd6b1-6602-4682-d1f9-5e4f68d9b9db"
      },
      "outputs": [
        {
          "output_type": "stream",
          "name": "stdout",
          "text": [
            "Creating Disease LCC graph...\n",
            "Nodes in disease LCC  232\n",
            "# Process completed.\n"
          ]
        },
        {
          "output_type": "stream",
          "name": "stderr",
          "text": [
            "/usr/local/lib/python3.8/dist-packages/networkx/drawing/nx_pylab.py:579: MatplotlibDeprecationWarning: \n",
            "The iterable function was deprecated in Matplotlib 3.1 and will be removed in 3.3. Use np.iterable instead.\n",
            "  if not cb.iterable(width):\n"
          ]
        },
        {
          "output_type": "display_data",
          "data": {
            "text/plain": [
              "<Figure size 576x576 with 1 Axes>"
            ],
            "image/png": "[encoded data removed]"
          },
          "metadata": {}
        }
      ],
      "source": [
        "# LCC OF DISEASE PLOT\n",
        "\n",
        "DN = AF.make_disease_graph(HSN, DGA, DG_in_PPI)\n",
        "AF.plot_LCC(DN, DG_in_PPI)"
      ]
    },
    {
      "cell_type": "code",
      "execution_count": null,
      "metadata": {
        "id": "unNlOmeU8aO4"
      },
      "outputs": [],
      "source": [
        "# DISEASE NETWORK LCC\n",
        "\n",
        "Gcc = sorted(nx.connected_components(DN), key=len, reverse=True)\n",
        "G = DN.subgraph(Gcc[0])\n",
        "n_nodes = G.number_of_nodes()"
      ]
    },
    {
      "cell_type": "code",
      "execution_count": null,
      "metadata": {
        "id": "MQRk9IFj9J5B"
      },
      "outputs": [],
      "source": [
        "# NETWORK MEASURES\n",
        "# Remark . Execute only once. Moreover this cell takes a while to run...\n",
        "\n",
        "nx.set_node_attributes(G, G.degree(), 'Node degree')  \n",
        "nx.set_node_attributes(G, nx.betweenness_centrality(G), \"Betweenness centrality\")\n",
        "nx.set_node_attributes(G, nx.eigenvector_centrality(G), \"Eigenvector centrality\")\n",
        "nx.set_node_attributes(G, nx.closeness_centrality(G), \"Closeness centrality\")\n",
        "\n",
        "local_measures = pd.DataFrame(index=G.nodes())\n",
        "local_measures['Node degree'] = [d for n, d in G.degree()] \n",
        "local_measures['Betweenness centrality'] = pd.Series(nx.get_node_attributes(G, 'Betweenness centrality'))\n",
        "local_measures['Eigenvector centrality'] = pd.Series(nx.get_node_attributes(G, 'Eigenvector centrality'))\n",
        "local_measures['Closeness centrality'] = pd.Series(nx.get_node_attributes(G, 'Closeness centrality'))\n",
        "local_measures['Betweenness/Degree Ratio'] = local_measures['Betweenness centrality']/local_measures['Node degree']\n",
        "local_measures.index.name='Gene'"
      ]
    },
    {
      "cell_type": "code",
      "execution_count": null,
      "metadata": {
        "id": "awQy6AI99d0Q"
      },
      "outputs": [],
      "source": [
        "# SAVE TABLE WITH NETWORK MEASURES IN FILE local_measures.csv\n",
        "# Remark . Execute only once to create the file\n",
        "\n",
        "local_measures.to_csv(path+'local_measures.csv', index = True, header = True)"
      ]
    },
    {
      "cell_type": "code",
      "execution_count": null,
      "metadata": {
        "id": "QWxq7I5hAm5d",
        "colab": {
          "base_uri": "https://localhost:8080/",
          "height": 1000
        },
        "outputId": "283e9f3e-8210-47c9-e1a3-2d981e4565bb"
      },
      "outputs": [
        {
          "output_type": "execute_result",
          "data": {
            "text/plain": [
              "      Gene  Node degree  Betweenness centrality  Eigenvector centrality  \\\n",
              "215   5592            3                0.025880                0.018742   \n",
              "123   1813            5                0.034369                0.041870   \n",
              "198   4015            3                0.017315                0.009222   \n",
              "122   4881            3                0.017278                0.001563   \n",
              "104   3827            5                0.027271                0.019728   \n",
              "192   1956           48                0.249847                0.333165   \n",
              "191   4512            3                0.013786                0.006281   \n",
              "172   1401            2                0.009061                0.011981   \n",
              "148    857           30                0.134426                0.165287   \n",
              "214   2006            2                0.008658                0.000764   \n",
              "27    7224            2                0.008658                0.003469   \n",
              "12   10269            2                0.008658                0.026924   \n",
              "77    1215            2                0.008658                0.000165   \n",
              "112   7428           18                0.077778                0.131861   \n",
              "197  55212           11                0.047089                0.068938   \n",
              "226   7157           44                0.188111                0.324985   \n",
              "47    2161            3                0.011531                0.019511   \n",
              "155   1889            4                0.014925                0.018356   \n",
              "189   4000           18                0.066469                0.134251   \n",
              "166   3953            2                0.007373                0.005298   \n",
              "161   3949            5                0.018415                0.001997   \n",
              "124   7450            4                0.014554                0.010605   \n",
              "127   2335           19                0.068895                0.144423   \n",
              "129   8481            6                0.021482                0.050618   \n",
              "182   9101            8                0.028272                0.063844   \n",
              "73    2740            5                0.017635                0.019672   \n",
              "89    6869            6                0.020825                0.026193   \n",
              "163    367           18                0.062198                0.190499   \n",
              "190   4513            5                0.017189                0.049432   \n",
              "199    948            3                0.010212                0.008112   \n",
              "150   2908           20                0.067382                0.192293   \n",
              "131    811           11                0.036636                0.087724   \n",
              "100   3816            3                0.009968                0.001732   \n",
              "173   7040            9                0.029544                0.058683   \n",
              "154   5979            4                0.012775                0.038172   \n",
              "40    5728           14                0.041876                0.132783   \n",
              "107   2811            3                0.008861                0.002495   \n",
              "231   1535            3                0.008854                0.014420   \n",
              "171   1909            3                0.008733                0.000704   \n",
              "165  22897            7                0.019892                0.014074   \n",
              "145    338            7                0.019843                0.068502   \n",
              "81     196            7                0.019826                0.052473   \n",
              "169   1908            2                0.005584                0.004993   \n",
              "24   23607            7                0.019039                0.070726   \n",
              "113   8452           14                0.037152                0.077826   \n",
              "223    490            7                0.018453                0.073812   \n",
              "4    26119            3                0.007699                0.006519   \n",
              "193   7076            4                0.009891                0.004840   \n",
              "59    2697           10                0.024530                0.072611   \n",
              "52    6786            4                0.009369                0.020760   \n",
              "\n",
              "     Closeness centrality  Betweenness/Degree Ratio  \n",
              "215              0.293147                  0.008627  \n",
              "123              0.336735                  0.006874  \n",
              "198              0.270175                  0.005772  \n",
              "122              0.227811                  0.005759  \n",
              "104              0.297297                  0.005454  \n",
              "192              0.456522                  0.005205  \n",
              "191              0.270809                  0.004595  \n",
              "172              0.281364                  0.004530  \n",
              "148              0.412500                  0.004481  \n",
              "214              0.213296                  0.004329  \n",
              "27               0.252735                  0.004329  \n",
              "12               0.300000                  0.004329  \n",
              "77               0.185393                  0.004329  \n",
              "112              0.380560                  0.004321  \n",
              "197              0.335756                  0.004281  \n",
              "226              0.426199                  0.004275  \n",
              "47               0.297297                  0.003844  \n",
              "155              0.315143                  0.003731  \n",
              "189              0.398964                  0.003693  \n",
              "166              0.261608                  0.003687  \n",
              "161              0.226916                  0.003683  \n",
              "124              0.274347                  0.003638  \n",
              "127              0.385000                  0.003626  \n",
              "129              0.332853                  0.003580  \n",
              "182              0.348943                  0.003534  \n",
              "73               0.304749                  0.003527  \n",
              "89               0.316872                  0.003471  \n",
              "163              0.407407                  0.003455  \n",
              "190              0.340206                  0.003438  \n",
              "199              0.266129                  0.003404  \n",
              "150              0.408127                  0.003369  \n",
              "131              0.367250                  0.003331  \n",
              "100              0.231695                  0.003323  \n",
              "173              0.348416                  0.003283  \n",
              "154              0.333333                  0.003194  \n",
              "40               0.400347                  0.002991  \n",
              "107              0.237654                  0.002954  \n",
              "231              0.282742                  0.002951  \n",
              "171              0.214087                  0.002911  \n",
              "165              0.278313                  0.002842  \n",
              "145              0.352672                  0.002835  \n",
              "81               0.322626                  0.002832  \n",
              "169              0.263098                  0.002792  \n",
              "24               0.353752                  0.002720  \n",
              "113              0.354294                  0.002654  \n",
              "223              0.362637                  0.002636  \n",
              "4                0.263098                  0.002566  \n",
              "193              0.260428                  0.002473  \n",
              "59               0.354839                  0.002453  \n",
              "52               0.302356                  0.002342  "
            ],
            "text/html": [
              "\n",
              "  <div id=\"df-cd4459c3-4ae7-4220-926d-8287514725fb\">\n",
              "    <div class=\"colab-df-container\">\n",
              "      <div>\n",
              "<style scoped>\n",
              "    .dataframe tbody tr th:only-of-type {\n",
              "        vertical-align: middle;\n",
              "    }\n",
              "\n",
              "    .dataframe tbody tr th {\n",
              "        vertical-align: top;\n",
              "    }\n",
              "\n",
              "    .dataframe thead th {\n",
              "        text-align: right;\n",
              "    }\n",
              "</style>\n",
              "<table border=\"1\" class=\"dataframe\">\n",
              "  <thead>\n",
              "    <tr style=\"text-align: right;\">\n",
              "      <th></th>\n",
              "      <th>Gene</th>\n",
              "      <th>Node degree</th>\n",
              "      <th>Betweenness centrality</th>\n",
              "      <th>Eigenvector centrality</th>\n",
              "      <th>Closeness centrality</th>\n",
              "      <th>Betweenness/Degree Ratio</th>\n",
              "    </tr>\n",
              "  </thead>\n",
              "  <tbody>\n",
              "    <tr>\n",
              "      <th>215</th>\n",
              "      <td>5592</td>\n",
              "      <td>3</td>\n",
              "      <td>0.025880</td>\n",
              "      <td>0.018742</td>\n",
              "      <td>0.293147</td>\n",
              "      <td>0.008627</td>\n",
              "    </tr>\n",
              "    <tr>\n",
              "      <th>123</th>\n",
              "      <td>1813</td>\n",
              "      <td>5</td>\n",
              "      <td>0.034369</td>\n",
              "      <td>0.041870</td>\n",
              "      <td>0.336735</td>\n",
              "      <td>0.006874</td>\n",
              "    </tr>\n",
              "    <tr>\n",
              "      <th>198</th>\n",
              "      <td>4015</td>\n",
              "      <td>3</td>\n",
              "      <td>0.017315</td>\n",
              "      <td>0.009222</td>\n",
              "      <td>0.270175</td>\n",
              "      <td>0.005772</td>\n",
              "    </tr>\n",
              "    <tr>\n",
              "      <th>122</th>\n",
              "      <td>4881</td>\n",
              "      <td>3</td>\n",
              "      <td>0.017278</td>\n",
              "      <td>0.001563</td>\n",
              "      <td>0.227811</td>\n",
              "      <td>0.005759</td>\n",
              "    </tr>\n",
              "    <tr>\n",
              "      <th>104</th>\n",
              "      <td>3827</td>\n",
              "      <td>5</td>\n",
              "      <td>0.027271</td>\n",
              "      <td>0.019728</td>\n",
              "      <td>0.297297</td>\n",
              "      <td>0.005454</td>\n",
              "    </tr>\n",
              "    <tr>\n",
              "      <th>192</th>\n",
              "      <td>1956</td>\n",
              "      <td>48</td>\n",
              "      <td>0.249847</td>\n",
              "      <td>0.333165</td>\n",
              "      <td>0.456522</td>\n",
              "      <td>0.005205</td>\n",
              "    </tr>\n",
              "    <tr>\n",
              "      <th>191</th>\n",
              "      <td>4512</td>\n",
              "      <td>3</td>\n",
              "      <td>0.013786</td>\n",
              "      <td>0.006281</td>\n",
              "      <td>0.270809</td>\n",
              "      <td>0.004595</td>\n",
              "    </tr>\n",
              "    <tr>\n",
              "      <th>172</th>\n",
              "      <td>1401</td>\n",
              "      <td>2</td>\n",
              "      <td>0.009061</td>\n",
              "      <td>0.011981</td>\n",
              "      <td>0.281364</td>\n",
              "      <td>0.004530</td>\n",
              "    </tr>\n",
              "    <tr>\n",
              "      <th>148</th>\n",
              "      <td>857</td>\n",
              "      <td>30</td>\n",
              "      <td>0.134426</td>\n",
              "      <td>0.165287</td>\n",
              "      <td>0.412500</td>\n",
              "      <td>0.004481</td>\n",
              "    </tr>\n",
              "    <tr>\n",
              "      <th>214</th>\n",
              "      <td>2006</td>\n",
              "      <td>2</td>\n",
              "      <td>0.008658</td>\n",
              "      <td>0.000764</td>\n",
              "      <td>0.213296</td>\n",
              "      <td>0.004329</td>\n",
              "    </tr>\n",
              "    <tr>\n",
              "      <th>27</th>\n",
              "      <td>7224</td>\n",
              "      <td>2</td>\n",
              "      <td>0.008658</td>\n",
              "      <td>0.003469</td>\n",
              "      <td>0.252735</td>\n",
              "      <td>0.004329</td>\n",
              "    </tr>\n",
              "    <tr>\n",
              "      <th>12</th>\n",
              "      <td>10269</td>\n",
              "      <td>2</td>\n",
              "      <td>0.008658</td>\n",
              "      <td>0.026924</td>\n",
              "      <td>0.300000</td>\n",
              "      <td>0.004329</td>\n",
              "    </tr>\n",
              "    <tr>\n",
              "      <th>77</th>\n",
              "      <td>1215</td>\n",
              "      <td>2</td>\n",
              "      <td>0.008658</td>\n",
              "      <td>0.000165</td>\n",
              "      <td>0.185393</td>\n",
              "      <td>0.004329</td>\n",
              "    </tr>\n",
              "    <tr>\n",
              "      <th>112</th>\n",
              "      <td>7428</td>\n",
              "      <td>18</td>\n",
              "      <td>0.077778</td>\n",
              "      <td>0.131861</td>\n",
              "      <td>0.380560</td>\n",
              "      <td>0.004321</td>\n",
              "    </tr>\n",
              "    <tr>\n",
              "      <th>197</th>\n",
              "      <td>55212</td>\n",
              "      <td>11</td>\n",
              "      <td>0.047089</td>\n",
              "      <td>0.068938</td>\n",
              "      <td>0.335756</td>\n",
              "      <td>0.004281</td>\n",
              "    </tr>\n",
              "    <tr>\n",
              "      <th>226</th>\n",
              "      <td>7157</td>\n",
              "      <td>44</td>\n",
              "      <td>0.188111</td>\n",
              "      <td>0.324985</td>\n",
              "      <td>0.426199</td>\n",
              "      <td>0.004275</td>\n",
              "    </tr>\n",
              "    <tr>\n",
              "      <th>47</th>\n",
              "      <td>2161</td>\n",
              "      <td>3</td>\n",
              "      <td>0.011531</td>\n",
              "      <td>0.019511</td>\n",
              "      <td>0.297297</td>\n",
              "      <td>0.003844</td>\n",
              "    </tr>\n",
              "    <tr>\n",
              "      <th>155</th>\n",
              "      <td>1889</td>\n",
              "      <td>4</td>\n",
              "      <td>0.014925</td>\n",
              "      <td>0.018356</td>\n",
              "      <td>0.315143</td>\n",
              "      <td>0.003731</td>\n",
              "    </tr>\n",
              "    <tr>\n",
              "      <th>189</th>\n",
              "      <td>4000</td>\n",
              "      <td>18</td>\n",
              "      <td>0.066469</td>\n",
              "      <td>0.134251</td>\n",
              "      <td>0.398964</td>\n",
              "      <td>0.003693</td>\n",
              "    </tr>\n",
              "    <tr>\n",
              "      <th>166</th>\n",
              "      <td>3953</td>\n",
              "      <td>2</td>\n",
              "      <td>0.007373</td>\n",
              "      <td>0.005298</td>\n",
              "      <td>0.261608</td>\n",
              "      <td>0.003687</td>\n",
              "    </tr>\n",
              "    <tr>\n",
              "      <th>161</th>\n",
              "      <td>3949</td>\n",
              "      <td>5</td>\n",
              "      <td>0.018415</td>\n",
              "      <td>0.001997</td>\n",
              "      <td>0.226916</td>\n",
              "      <td>0.003683</td>\n",
              "    </tr>\n",
              "    <tr>\n",
              "      <th>124</th>\n",
              "      <td>7450</td>\n",
              "      <td>4</td>\n",
              "      <td>0.014554</td>\n",
              "      <td>0.010605</td>\n",
              "      <td>0.274347</td>\n",
              "      <td>0.003638</td>\n",
              "    </tr>\n",
              "    <tr>\n",
              "      <th>127</th>\n",
              "      <td>2335</td>\n",
              "      <td>19</td>\n",
              "      <td>0.068895</td>\n",
              "      <td>0.144423</td>\n",
              "      <td>0.385000</td>\n",
              "      <td>0.003626</td>\n",
              "    </tr>\n",
              "    <tr>\n",
              "      <th>129</th>\n",
              "      <td>8481</td>\n",
              "      <td>6</td>\n",
              "      <td>0.021482</td>\n",
              "      <td>0.050618</td>\n",
              "      <td>0.332853</td>\n",
              "      <td>0.003580</td>\n",
              "    </tr>\n",
              "    <tr>\n",
              "      <th>182</th>\n",
              "      <td>9101</td>\n",
              "      <td>8</td>\n",
              "      <td>0.028272</td>\n",
              "      <td>0.063844</td>\n",
              "      <td>0.348943</td>\n",
              "      <td>0.003534</td>\n",
              "    </tr>\n",
              "    <tr>\n",
              "      <th>73</th>\n",
              "      <td>2740</td>\n",
              "      <td>5</td>\n",
              "      <td>0.017635</td>\n",
              "      <td>0.019672</td>\n",
              "      <td>0.304749</td>\n",
              "      <td>0.003527</td>\n",
              "    </tr>\n",
              "    <tr>\n",
              "      <th>89</th>\n",
              "      <td>6869</td>\n",
              "      <td>6</td>\n",
              "      <td>0.020825</td>\n",
              "      <td>0.026193</td>\n",
              "      <td>0.316872</td>\n",
              "      <td>0.003471</td>\n",
              "    </tr>\n",
              "    <tr>\n",
              "      <th>163</th>\n",
              "      <td>367</td>\n",
              "      <td>18</td>\n",
              "      <td>0.062198</td>\n",
              "      <td>0.190499</td>\n",
              "      <td>0.407407</td>\n",
              "      <td>0.003455</td>\n",
              "    </tr>\n",
              "    <tr>\n",
              "      <th>190</th>\n",
              "      <td>4513</td>\n",
              "      <td>5</td>\n",
              "      <td>0.017189</td>\n",
              "      <td>0.049432</td>\n",
              "      <td>0.340206</td>\n",
              "      <td>0.003438</td>\n",
              "    </tr>\n",
              "    <tr>\n",
              "      <th>199</th>\n",
              "      <td>948</td>\n",
              "      <td>3</td>\n",
              "      <td>0.010212</td>\n",
              "      <td>0.008112</td>\n",
              "      <td>0.266129</td>\n",
              "      <td>0.003404</td>\n",
              "    </tr>\n",
              "    <tr>\n",
              "      <th>150</th>\n",
              "      <td>2908</td>\n",
              "      <td>20</td>\n",
              "      <td>0.067382</td>\n",
              "      <td>0.192293</td>\n",
              "      <td>0.408127</td>\n",
              "      <td>0.003369</td>\n",
              "    </tr>\n",
              "    <tr>\n",
              "      <th>131</th>\n",
              "      <td>811</td>\n",
              "      <td>11</td>\n",
              "      <td>0.036636</td>\n",
              "      <td>0.087724</td>\n",
              "      <td>0.367250</td>\n",
              "      <td>0.003331</td>\n",
              "    </tr>\n",
              "    <tr>\n",
              "      <th>100</th>\n",
              "      <td>3816</td>\n",
              "      <td>3</td>\n",
              "      <td>0.009968</td>\n",
              "      <td>0.001732</td>\n",
              "      <td>0.231695</td>\n",
              "      <td>0.003323</td>\n",
              "    </tr>\n",
              "    <tr>\n",
              "      <th>173</th>\n",
              "      <td>7040</td>\n",
              "      <td>9</td>\n",
              "      <td>0.029544</td>\n",
              "      <td>0.058683</td>\n",
              "      <td>0.348416</td>\n",
              "      <td>0.003283</td>\n",
              "    </tr>\n",
              "    <tr>\n",
              "      <th>154</th>\n",
              "      <td>5979</td>\n",
              "      <td>4</td>\n",
              "      <td>0.012775</td>\n",
              "      <td>0.038172</td>\n",
              "      <td>0.333333</td>\n",
              "      <td>0.003194</td>\n",
              "    </tr>\n",
              "    <tr>\n",
              "      <th>40</th>\n",
              "      <td>5728</td>\n",
              "      <td>14</td>\n",
              "      <td>0.041876</td>\n",
              "      <td>0.132783</td>\n",
              "      <td>0.400347</td>\n",
              "      <td>0.002991</td>\n",
              "    </tr>\n",
              "    <tr>\n",
              "      <th>107</th>\n",
              "      <td>2811</td>\n",
              "      <td>3</td>\n",
              "      <td>0.008861</td>\n",
              "      <td>0.002495</td>\n",
              "      <td>0.237654</td>\n",
              "      <td>0.002954</td>\n",
              "    </tr>\n",
              "    <tr>\n",
              "      <th>231</th>\n",
              "      <td>1535</td>\n",
              "      <td>3</td>\n",
              "      <td>0.008854</td>\n",
              "      <td>0.014420</td>\n",
              "      <td>0.282742</td>\n",
              "      <td>0.002951</td>\n",
              "    </tr>\n",
              "    <tr>\n",
              "      <th>171</th>\n",
              "      <td>1909</td>\n",
              "      <td>3</td>\n",
              "      <td>0.008733</td>\n",
              "      <td>0.000704</td>\n",
              "      <td>0.214087</td>\n",
              "      <td>0.002911</td>\n",
              "    </tr>\n",
              "    <tr>\n",
              "      <th>165</th>\n",
              "      <td>22897</td>\n",
              "      <td>7</td>\n",
              "      <td>0.019892</td>\n",
              "      <td>0.014074</td>\n",
              "      <td>0.278313</td>\n",
              "      <td>0.002842</td>\n",
              "    </tr>\n",
              "    <tr>\n",
              "      <th>145</th>\n",
              "      <td>338</td>\n",
              "      <td>7</td>\n",
              "      <td>0.019843</td>\n",
              "      <td>0.068502</td>\n",
              "      <td>0.352672</td>\n",
              "      <td>0.002835</td>\n",
              "    </tr>\n",
              "    <tr>\n",
              "      <th>81</th>\n",
              "      <td>196</td>\n",
              "      <td>7</td>\n",
              "      <td>0.019826</td>\n",
              "      <td>0.052473</td>\n",
              "      <td>0.322626</td>\n",
              "      <td>0.002832</td>\n",
              "    </tr>\n",
              "    <tr>\n",
              "      <th>169</th>\n",
              "      <td>1908</td>\n",
              "      <td>2</td>\n",
              "      <td>0.005584</td>\n",
              "      <td>0.004993</td>\n",
              "      <td>0.263098</td>\n",
              "      <td>0.002792</td>\n",
              "    </tr>\n",
              "    <tr>\n",
              "      <th>24</th>\n",
              "      <td>23607</td>\n",
              "      <td>7</td>\n",
              "      <td>0.019039</td>\n",
              "      <td>0.070726</td>\n",
              "      <td>0.353752</td>\n",
              "      <td>0.002720</td>\n",
              "    </tr>\n",
              "    <tr>\n",
              "      <th>113</th>\n",
              "      <td>8452</td>\n",
              "      <td>14</td>\n",
              "      <td>0.037152</td>\n",
              "      <td>0.077826</td>\n",
              "      <td>0.354294</td>\n",
              "      <td>0.002654</td>\n",
              "    </tr>\n",
              "    <tr>\n",
              "      <th>223</th>\n",
              "      <td>490</td>\n",
              "      <td>7</td>\n",
              "      <td>0.018453</td>\n",
              "      <td>0.073812</td>\n",
              "      <td>0.362637</td>\n",
              "      <td>0.002636</td>\n",
              "    </tr>\n",
              "    <tr>\n",
              "      <th>4</th>\n",
              "      <td>26119</td>\n",
              "      <td>3</td>\n",
              "      <td>0.007699</td>\n",
              "      <td>0.006519</td>\n",
              "      <td>0.263098</td>\n",
              "      <td>0.002566</td>\n",
              "    </tr>\n",
              "    <tr>\n",
              "      <th>193</th>\n",
              "      <td>7076</td>\n",
              "      <td>4</td>\n",
              "      <td>0.009891</td>\n",
              "      <td>0.004840</td>\n",
              "      <td>0.260428</td>\n",
              "      <td>0.002473</td>\n",
              "    </tr>\n",
              "    <tr>\n",
              "      <th>59</th>\n",
              "      <td>2697</td>\n",
              "      <td>10</td>\n",
              "      <td>0.024530</td>\n",
              "      <td>0.072611</td>\n",
              "      <td>0.354839</td>\n",
              "      <td>0.002453</td>\n",
              "    </tr>\n",
              "    <tr>\n",
              "      <th>52</th>\n",
              "      <td>6786</td>\n",
              "      <td>4</td>\n",
              "      <td>0.009369</td>\n",
              "      <td>0.020760</td>\n",
              "      <td>0.302356</td>\n",
              "      <td>0.002342</td>\n",
              "    </tr>\n",
              "  </tbody>\n",
              "</table>\n",
              "</div>\n",
              "      <button class=\"colab-df-convert\" onclick=\"convertToInteractive('df-cd4459c3-4ae7-4220-926d-8287514725fb')\"\n",
              "              title=\"Convert this dataframe to an interactive table.\"\n",
              "              style=\"display:none;\">\n",
              "        \n",
              "  <svg xmlns=\"http://www.w3.org/2000/svg\" height=\"24px\"viewBox=\"0 0 24 24\"\n",
              "       width=\"24px\">\n",
              "    <path d=\"M0 0h24v24H0V0z\" fill=\"none\"/>\n",
              "    <path d=\"M18.56 5.44l.94 2.06.94-2.06 2.06-.94-2.06-.94-.94-2.06-.94 2.06-2.06.94zm-11 1L8.5 8.5l.94-2.06 2.06-.94-2.06-.94L8.5 2.5l-.94 2.06-2.06.94zm10 10l.94 2.06.94-2.06 2.06-.94-2.06-.94-.94-2.06-.94 2.06-2.06.94z\"/><path d=\"M17.41 7.96l-1.37-1.37c-.4-.4-.92-.59-1.43-.59-.52 0-1.04.2-1.43.59L10.3 9.45l-7.72 7.72c-.78.78-.78 2.05 0 2.83L4 21.41c.39.39.9.59 1.41.59.51 0 1.02-.2 1.41-.59l7.78-7.78 2.81-2.81c.8-.78.8-2.07 0-2.86zM5.41 20L4 18.59l7.72-7.72 1.47 1.35L5.41 20z\"/>\n",
              "  </svg>\n",
              "      </button>\n",
              "      \n",
              "  <style>\n",
              "    .colab-df-container {\n",
              "      display:flex;\n",
              "      flex-wrap:wrap;\n",
              "      gap: 12px;\n",
              "    }\n",
              "\n",
              "    .colab-df-convert {\n",
              "      background-color: #E8F0FE;\n",
              "      border: none;\n",
              "      border-radius: 50%;\n",
              "      cursor: pointer;\n",
              "      display: none;\n",
              "      fill: #1967D2;\n",
              "      height: 32px;\n",
              "      padding: 0 0 0 0;\n",
              "      width: 32px;\n",
              "    }\n",
              "\n",
              "    .colab-df-convert:hover {\n",
              "      background-color: #E2EBFA;\n",
              "      box-shadow: 0px 1px 2px rgba(60, 64, 67, 0.3), 0px 1px 3px 1px rgba(60, 64, 67, 0.15);\n",
              "      fill: #174EA6;\n",
              "    }\n",
              "\n",
              "    [theme=dark] .colab-df-convert {\n",
              "      background-color: #3B4455;\n",
              "      fill: #D2E3FC;\n",
              "    }\n",
              "\n",
              "    [theme=dark] .colab-df-convert:hover {\n",
              "      background-color: #434B5C;\n",
              "      box-shadow: 0px 1px 3px 1px rgba(0, 0, 0, 0.15);\n",
              "      filter: drop-shadow(0px 1px 2px rgba(0, 0, 0, 0.3));\n",
              "      fill: #FFFFFF;\n",
              "    }\n",
              "  </style>\n",
              "\n",
              "      <script>\n",
              "        const buttonEl =\n",
              "          document.querySelector('#df-cd4459c3-4ae7-4220-926d-8287514725fb button.colab-df-convert');\n",
              "        buttonEl.style.display =\n",
              "          google.colab.kernel.accessAllowed ? 'block' : 'none';\n",
              "\n",
              "        async function convertToInteractive(key) {\n",
              "          const element = document.querySelector('#df-cd4459c3-4ae7-4220-926d-8287514725fb');\n",
              "          const dataTable =\n",
              "            await google.colab.kernel.invokeFunction('convertToInteractive',\n",
              "                                                     [key], {});\n",
              "          if (!dataTable) return;\n",
              "\n",
              "          const docLinkHtml = 'Like what you see? Visit the ' +\n",
              "            '<a target=\"_blank\" href=https://colab.research.google.com/notebooks/data_table.ipynb>data table notebook</a>'\n",
              "            + ' to learn more about interactive tables.';\n",
              "          element.innerHTML = '';\n",
              "          dataTable['output_type'] = 'display_data';\n",
              "          await google.colab.output.renderOutput(dataTable, element);\n",
              "          const docLink = document.createElement('div');\n",
              "          docLink.innerHTML = docLinkHtml;\n",
              "          element.appendChild(docLink);\n",
              "        }\n",
              "      </script>\n",
              "    </div>\n",
              "  </div>\n",
              "  "
            ]
          },
          "metadata": {},
          "execution_count": 14
        }
      ],
      "source": [
        "# CHECK\n",
        "\n",
        "local_measures = pd.read_csv(path+'local_measures.csv', sep=',')\n",
        "local_measures = local_measures.sort_values(by=['Betweenness/Degree Ratio'], ascending=False)\n",
        "local_measures.head(50)"
      ]
    },
    {
      "cell_type": "markdown",
      "metadata": {
        "id": "bvpjeGCqAp_p"
      },
      "source": [
        "# TASK 2 . Putative disease genes identification algorithms"
      ]
    },
    {
      "cell_type": "markdown",
      "metadata": {
        "id": "wIrmeN_095jx"
      },
      "source": [
        "## Set up"
      ]
    },
    {
      "cell_type": "code",
      "execution_count": null,
      "metadata": {
        "colab": {
          "base_uri": "https://localhost:8080/"
        },
        "id": "7GbbUbvh9oVt",
        "outputId": "07d9cd58-c1ee-46c7-c5f7-3be62ea25f77"
      },
      "outputs": [
        {
          "output_type": "stream",
          "name": "stderr",
          "text": [
            "100%|██████████| 665061/665061 [00:00<00:00, 777482.28it/s]\n"
          ]
        }
      ],
      "source": [
        "# STORE  THE INTERACTOME IN FILE PPI_Hypertensive.txt\n",
        "# Remark . Execute only once to create the file\n",
        "\n",
        "pairs_genes = list(LCC.edges)\n",
        "textfile = open(path+\"PPI_Hypertensive.txt\", \"w\")\n",
        "for gA, gB in tqdm(pairs_genes):\n",
        "  textfile.write(str(gA) + ',' + str(gB) + '\\n') \n",
        "textfile.close()"
      ]
    },
    {
      "cell_type": "code",
      "execution_count": null,
      "metadata": {
        "id": "RTaEJXH56YHE"
      },
      "outputs": [],
      "source": [
        "# LOAD DATA\n",
        "\n",
        "# Dict with pair k,v where k is the index and v is the list of genes in the probe set\n",
        "with open(path+'Hypertensive disease_splits.json') as f:\n",
        "  dict_ = json.load(f)\n",
        "\n",
        "# import seed genes\n",
        "with open(path+'Hypertensive disease_seed_gene.txt') as f:\n",
        "  data = f.read()\n",
        "  seeds = ast.literal_eval(data)\n",
        "  seeds = np.asarray(seeds)   \n",
        "\n",
        "  with open(path+'all_seeds.txt','w') as f:\n",
        "        for item in seeds:\n",
        "            f.write(\"%s\\n\" % item)\n",
        "  "
      ]
    },
    {
      "cell_type": "code",
      "execution_count": null,
      "metadata": {
        "id": "8rOxTqLtk3hV"
      },
      "outputs": [],
      "source": [
        "# CHECK\n",
        "\n",
        "#dict_.items()"
      ]
    },
    {
      "cell_type": "code",
      "execution_count": null,
      "metadata": {
        "id": "YjdJoinLk9bK"
      },
      "outputs": [],
      "source": [
        "# CHECK\n",
        "\n",
        "#print(type(dict_))\n",
        "#print(len(dict_[\"0\"]))"
      ]
    },
    {
      "cell_type": "code",
      "execution_count": null,
      "metadata": {
        "id": "Mkk1bjXU6s13",
        "outputId": "ec6be9ad-657f-4bac-c437-0bb9810d631d",
        "colab": {
          "base_uri": "https://localhost:8080/"
        }
      },
      "outputs": [
        {
          "output_type": "stream",
          "name": "stdout",
          "text": [
            "0 ['ND1', 'TIMP1', 'APOA1', 'AGTR2', 'IFT27', 'WNK1', 'REN', 'HSD11B2', 'AQP1', 'SMAD4', 'COL4A3', 'CTGF', 'NME1', 'UCN', 'LDLRAP1', 'PLG', 'UCP2', 'PLAT', 'MMP9', 'KNG1', 'TRNV', 'CPOX', 'FGA', 'ACT', 'ALAD', 'NOS2', 'FXYD2', 'BBS9', 'NPTN', 'NCF1', 'ATP1A2', 'TGM2', 'NEDD4L', 'KLK1', 'STK39', 'ERCC4', 'PLIN1', 'BBS2', 'DUSP5', 'THPO', 'ABCB6', 'PPP1R3A', 'CALR', 'ICAM1', 'CLCNKA', 'MDH1', 'GCG', 'PTGS2', 'CELA2A', 'FOXF1', 'FN1', 'TNFRSF11B', 'FMO3', 'AOC1', 'GJA5', 'OLR1', 'SLC12A3', 'PDE8B']\n",
            "True\n",
            "1 ['ABCC1', 'PRKACA', 'JAK2', 'IGF1', 'KCNMB1', 'CD36', 'OXSR1', 'TRAF3IP1', 'CCL2', 'PTEN', 'BBS7', 'LMNA', 'WDPCP', 'COL3A1', 'CMA1', 'LEPR', 'TLR4', 'SLC37A4', 'NOS3', 'TRH', 'ITM2B', 'TNF', 'OFD1', 'COL4A4', 'COX3', 'ERCC6', 'CRP', 'UTS2', 'KCNJ5', 'MYH11', 'SMARCAL1', 'ND5', 'GP1BA', 'DRD2', 'NPPB', 'FOS', 'GSTT1', 'KCNJ1', 'GUCY1A3', 'FGFR2', 'CAV1', 'JUN', 'SOD1', 'MKKS', 'SMAD3', 'VCAM1', 'CYP11B1', 'ATP1A1', 'INS', 'IDUA', 'EDN1', 'TRIM32', 'SH2B3', 'GNRH1', 'AGTR1', 'ERCC8', 'AHR', 'TP53']\n",
            "True\n",
            "2 ['LYZ', 'VAV3', 'VHL', 'ITGA8', 'GSTA5', 'COX2', 'GNAS', 'GAL', 'BCL2', 'CBS', 'LDLR', 'TRPC5', 'ND6', 'PAX2', 'HSD11B1', 'APOE', 'BDKRB2', 'STIM1', 'GCH1', 'GJA1', 'ACE', 'FOXE3', 'EGFR', 'CRHR2', 'SCNN1G', 'NPPA', 'MFAP5', 'IER3', 'EDN3', 'ECE1', 'APOB', 'SOD3', 'LTF', 'ALB', 'ERAP1', 'ACE2', 'RELA', 'ATP2B3', 'ENPP1', 'SOD2', 'CACNA1C', 'HIF1A', 'ADIPOQ', 'NR3C2', 'LPL', 'SCNN1B', 'MYD88', 'PRKAR1A', 'IL1B', 'NPHP1', 'SCNN1A', 'PRKCD', 'B2M', 'IKBKAP', 'MTOR', 'AR', 'TACR1', 'MUC1']\n",
            "True\n",
            "3 ['GNB3', 'MMP2', 'HTR2B', 'CYTB', 'ACTA2', 'CUL3', 'COL1A1', 'ZMPSTE24', 'LZTFL1', 'ADD1', 'PPARA', 'MKS1', 'WNK4', 'GPX1', 'BMPR2', 'LOX', 'VWF', 'IQCB1', 'EDNRA', 'EPO', 'AVP', 'CYP17A1', 'SLC12A2', 'AGT', 'SERPINA6', 'TRNE', 'CD2AP', 'ALMS1', 'GLP1R', 'MYLK', 'PPBP', 'CALCA', 'NF1', 'OXT', 'SERPINE1', 'IFT172', 'ANXA1', 'COL4A5', 'IL6', 'PDE3A', 'POMC', 'CXCL2', 'FBN1', 'COX1', 'PTH', 'TGFB3', 'RGS5', 'GCLC', 'CYBB', 'CACNA2D1', 'ADCY5', 'CYP21A2', 'LEP', 'BBS1', 'USP8', 'HMOX1', 'GSK3B', 'ATP2B1']\n",
            "True\n",
            "4 ['SELP', 'TPM1', 'PROC', 'F12', 'PPARG', 'HRH3', 'GJC1', 'CETP', 'G6PC', 'HMBS', 'ALOX15', 'INPPL1', 'NPR1', 'RGS2', 'BBS4', 'AOC3', 'ELN', 'HP', 'RALBP1', 'TGFBR2', 'TRPC3', 'RPS6KB1', 'CEP164', 'ACVRL1', 'MAFB', 'ATOX1', 'STK11', 'F11', 'GJA4', 'UMOD', 'SLC9A3R2', 'INVS', 'MC2R', 'CAT', 'SDCCAG8', 'KLHL3', 'LHB', 'ORAI1', 'CACNA1D', 'TGFB1', 'WT1', 'GSTT2', 'DYRK1B', 'NR3C1', 'ADRA2A', 'VDR', 'ADRB1', 'GLA', 'TGFB2', 'RET', 'NPHP3', 'AIP', 'TGFBR1', 'CYP1A1', 'SLC6A2', 'MYH9', 'PRKG1', 'CYBA']\n",
            "True\n"
          ]
        }
      ],
      "source": [
        "# CROSS VALIDATION SPLITS INTO FILES \n",
        "# Remark . Execute only once to create the files\n",
        "\n",
        "for k,v in dict_.items():\n",
        "    print(k,v)\n",
        "\n",
        "    with open(path+'probeset{}.txt'.format(k),'w') as f:\n",
        "        for item in v:\n",
        "            f.write(\"%s,\" % item)   \n",
        "\n",
        "    l=list(set(seeds).difference(set(v))) \n",
        "    # check\n",
        "    # 58 is the probe set v\n",
        "    # therefore 290-58 has to be the training set l\n",
        "    print(len(l)==290-58)\n",
        " \n",
        "    with open(path+'cross{}.txt'.format(k),'w') as f:\n",
        "        for item in l:\n",
        "            f.write(\"%s\\n\" % item)\n",
        "    "
      ]
    },
    {
      "cell_type": "markdown",
      "metadata": {
        "id": "ZSzqx9nizFF5"
      },
      "source": [
        "## Evaluation of performances for DIAMOnD"
      ]
    },
    {
      "cell_type": "code",
      "execution_count": null,
      "metadata": {
        "id": "u_yzJnvRi6t9",
        "outputId": "aabb84e3-6d95-4c7d-e578-5319c006523b",
        "colab": {
          "base_uri": "https://localhost:8080/"
        }
      },
      "outputs": [
        {
          "output_type": "stream",
          "name": "stdout",
          "text": [
            "\n",
            " results have been saved to 'res0.txt' \n",
            "\n",
            "set()\n"
          ]
        }
      ],
      "source": [
        "# DIAMOnD ALGORITHM EVALUATION\n",
        "# Remark . This cell takes some time to run...\n",
        "# If neded, repeat for different values of tot\n",
        "\n",
        "alg_name = \"DIAMOnD\"\n",
        "tot = 50\n",
        "\n",
        "recall= []\n",
        "precision = []             \n",
        "F1_score = []\n",
        "\n",
        "!python3  DIAMOnD.py  PPI_Hypertensive.txt  cross0.txt  200 \"res0.txt\"\n",
        "m = AF.evaluation(tot, 58, alg_name,0)\n",
        "  \n",
        "recall.append(m['recall'])\n",
        "precision.append(m['precision'])\n",
        "F1_score.append(m['F1 Score'])"
      ]
    },
    {
      "cell_type": "code",
      "source": [
        "# CODE TO EVALUATE DIAMOnD WITH DIFFERENT VALUES OF tot\n",
        "# Remark . This code can also be used for DIaBLE with minimal adjustments\n",
        "\n",
        "\"\"\"\n",
        "for k in [50,25,15,1]:\n",
        "  recall= []\n",
        "  precision = []             \n",
        "  F1_score = []\n",
        "\n",
        "  tot = k\n",
        "\n",
        "  !python3  DIAMOnD.py  PPI_Hypertensive.txt  cross0.txt  200 \"res0.txt\"\n",
        "  m = AF.evaluation(tot, 58, alg_name,0)\n",
        "  \n",
        "  recall.append(m['recall'])\n",
        "  precision.append(m['precision'])\n",
        "  F1_score.append(m['F1 Score'])\n",
        "\n",
        "  !python3  DIAMOnD.py  PPI_Hypertensive.txt  cross1.txt  200 \"res1.txt\"\n",
        "  m = AF.evaluation(tot, 58, alg_name,1)\n",
        "  recall.append(m['recall'])\n",
        "  precision.append(m['precision'])\n",
        "  F1_score.append(m['F1 Score'])\n",
        "\n",
        "  !python3  DIAMOnD.py  PPI_Hypertensive.txt  cross2.txt  200 \"res2.txt\"\n",
        "  m = AF.evaluation(tot, 58, alg_name,2)  \n",
        "  recall.append(m['recall'])\n",
        "  precision.append(m['precision'])\n",
        "  F1_score.append(m['F1 Score'])\n",
        "\n",
        "  !python3  DIAMOnD.py  PPI_Hypertensive.txt  cross3.txt  200 \"res3.txt\"\n",
        "  m = AF.evaluation(tot, 58, alg_name,3)  \n",
        "  recall.append(m['recall'])\n",
        "  precision.append(m['precision'])\n",
        "  F1_score.append(m['F1 Score'])\n",
        "\n",
        "  !python3  DIAMOnD.py  PPI_Hypertensive.txt  cross4.txt  200 \"res4.txt\"\n",
        "  m = AF.evaluation(tot, 58, alg_name,4)  \n",
        "  recall.append(m['recall'])\n",
        "  precision.append(m['precision'])\n",
        "  F1_score.append(m['F1 Score'])\n",
        "  \n",
        "  # Metrics\n",
        "  #print(recall)\n",
        "  recall_value = statistics.mean(recall)\n",
        "  precision_value= statistics.mean(precision)\n",
        "  F1_score_value = statistics.mean(F1_score)\n",
        "\n",
        "  print(recall_value)\n",
        "  print(precision_value)\n",
        "  print(F1_score_value)\n",
        "\"\"\""
      ],
      "metadata": {
        "id": "e-vV4PcRTdNx"
      },
      "execution_count": null,
      "outputs": []
    },
    {
      "cell_type": "code",
      "source": [],
      "metadata": {
        "id": "E1NJAnl4_TBL",
        "colab": {
          "base_uri": "https://localhost:8080/"
        },
        "outputId": "1deb5c4c-6b04-4e12-f16d-9470a1f998dc"
      },
      "execution_count": null,
      "outputs": [
        {
          "output_type": "stream",
          "name": "stdout",
          "text": [
            "0\n",
            "0\n",
            "0\n"
          ]
        }
      ]
    },
    {
      "cell_type": "markdown",
      "metadata": {
        "id": "NSeWa0G8-p_g"
      },
      "source": [
        "## Evaluation of performances for DIaBLE"
      ]
    },
    {
      "cell_type": "code",
      "execution_count": null,
      "metadata": {
        "id": "mfOO23sAKB1Y"
      },
      "outputs": [],
      "source": [
        "# DIaBLE ALGORITHM EVALUATION\n",
        "# Remark . This cell takes some time to run...\n",
        "# If neded, repeat for different values of tot\n",
        "\n",
        "alg_name = \"DIaBLE\"\n",
        "tot = 50\n",
        "\n",
        "recall= []\n",
        "precision = []             \n",
        "F1_score = []\n",
        "\n",
        "!python3  DIAMOnD.py  PPI_Hypertensive.txt  cross0.txt  200 \"res1.txt\"\n",
        "m = AF.evaluation(tot, 58, alg_name,1)\n",
        "  \n",
        "recall.append(m['recall'])\n",
        "precision.append(m['precision'])\n",
        "F1_score.append(m['F1 Score'])"
      ]
    },
    {
      "cell_type": "code",
      "source": [
        "# METRICS\n",
        "\n",
        "#print(recall)\n",
        "recall_value = statistics.mean(recall)\n",
        "precision_value= statistics.mean(precision)\n",
        "F1_score_value = statistics.mean(F1_score)\n",
        "\n",
        "print(recall_value)\n",
        "print(precision_value)\n",
        "print(F1_score_value)"
      ],
      "metadata": {
        "id": "pGheWJP-_dTQ"
      },
      "execution_count": null,
      "outputs": []
    },
    {
      "cell_type": "markdown",
      "metadata": {
        "id": "C_a_j5iXFARy"
      },
      "source": [
        "## Evaluation of performances for Diffusion"
      ]
    },
    {
      "cell_type": "markdown",
      "metadata": {
        "id": "-mG6vm0H9nej"
      },
      "source": [
        "### Diffusion algorithm"
      ]
    },
    {
      "cell_type": "code",
      "execution_count": null,
      "metadata": {
        "id": "96tTbAIfGPgc"
      },
      "outputs": [],
      "source": [
        "# CREATE CX OBJECT FROM NETWORK\n",
        "\n",
        "CX = ndex2.create_nice_cx_from_networkx(LCC).to_cx()"
      ]
    },
    {
      "cell_type": "code",
      "execution_count": null,
      "metadata": {
        "id": "oPBSNeWmFWQi"
      },
      "outputs": [],
      "source": [
        "#nice_cx_net = ndex2.create_nice_cx_from_server(server='http://public.ndexbio.org',\n",
        "#                                               uuid='c0e70804-d848-11e6-86b1-0ac135e8bacf')\n",
        "\n",
        "nice_cx_net = ndex2.create_nice_cx_from_raw_cx(CX)"
      ]
    },
    {
      "cell_type": "code",
      "execution_count": null,
      "metadata": {
        "id": "IPxDGaQVFWN8"
      },
      "outputs": [],
      "source": [
        "# CHECK\n",
        "\n",
        "print(nice_cx_net)"
      ]
    },
    {
      "cell_type": "code",
      "execution_count": null,
      "metadata": {
        "id": "RNH_XFPTFWK0"
      },
      "outputs": [],
      "source": [
        "# CHECK\n",
        "# Remark . Remove break to have the complete (very long) list\n",
        "\n",
        "for nodeid, nodeobj in nice_cx_net.get_nodes():\n",
        "    nice_cx_net.remove_node_attribute(node=nodeid, attribute_name='diffusion_input')\n",
        "    nice_cx_net.set_node_attribute(type='double', node=nodeid, attribute_name='diffusion_input', values='1.0')\n",
        "    print(nice_cx_net.get_node_attribute(nodeid,'diffusion_input'))\n",
        "    break"
      ]
    },
    {
      "cell_type": "code",
      "execution_count": null,
      "metadata": {
        "id": "slTdYnVLFWA7"
      },
      "outputs": [],
      "source": [
        "# CALL THE DIFFUSION SERVICE\n",
        "# Remark . This cell takes some time to run...\n",
        "\n",
        "url = 'http://v3.heat-diffusion.cytoscape.io'\n",
        "payload = nice_cx_net.to_cx()\n",
        "for p in payload:\n",
        "    k = list(p.keys())[0]\n",
        "    if 'Attributes' in k:\n",
        "        for i in range(len(p[k])):\n",
        "            p[k][i]['v'] = str(p[k][i]['v'])\n",
        "response = requests.post(url, json=payload)"
      ]
    },
    {
      "cell_type": "code",
      "execution_count": null,
      "metadata": {
        "id": "ONNwMzwCHzrh"
      },
      "outputs": [],
      "source": [
        "# GET DIFFUSION RESULTS\n",
        "# Remark . The data dictionary in the json response response.json()['data'] is a dictionary \n",
        "#          that contains CX formatted data with results of diffussion.\n",
        "\n",
        "for aspect in response.json()['data']:\n",
        "    if 'nodeAttributes' not in aspect:\n",
        "        continue\n",
        "    for n_attr in aspect['nodeAttributes']:\n",
        "        if n_attr['n'] == 'diffusion_output_rank' or n_attr['n'] == 'diffusion_output_heat':\n",
        "            if n_attr['d'] == 'float':\n",
        "                n_type = 'double'\n",
        "            else:\n",
        "                n_type = n_attr['d']\n",
        "            nice_cx_net.add_node_attribute(property_of=int(n_attr['po']),\n",
        "                                 name=n_attr['n'],\n",
        "                                 values=n_attr['v'],\n",
        "                                 type=n_type)"
      ]
    },
    {
      "cell_type": "code",
      "execution_count": null,
      "metadata": {
        "id": "DHqaPdy2H15M"
      },
      "outputs": [],
      "source": [
        "# OUTPUT BEST RESULTS FROM DIFFUSION\n",
        "\n",
        "nos = []\n",
        "for node_id, node in nice_cx_net.get_nodes():\n",
        "    rank = nice_cx_net.get_node_attribute_value(node_id, 'diffusion_output_rank')\n",
        "    if int(rank) < 10:\n",
        "        node['diffusion_output_rank'] = rank\n",
        "        heat = nice_cx_net.get_node_attribute_value(node_id, 'diffusion_output_heat')\n",
        "        node['diffusion_output_heat'] = float(heat)\n",
        "        nos.append(node)\n",
        "\n",
        "# sort the result\n",
        "nos = sorted(nos, key=lambda k: k['diffusion_output_rank'])       \n",
        "nos"
      ]
    },
    {
      "cell_type": "code",
      "execution_count": null,
      "metadata": {
        "id": "CoTSq0ShLDRY"
      },
      "outputs": [],
      "source": [
        "# THE RESULTS HAVE BEEN SAVED IN THE FOLLOWING txt FILE\n",
        "# Remark . The file diff_res.txt should be present in the working directory\n",
        "#          and has been created separately.\n",
        "\n",
        "data=pd.read_csv('diff_res.txt'.format(i),sep='\\t')"
      ]
    },
    {
      "cell_type": "code",
      "execution_count": null,
      "metadata": {
        "id": "OfPKQecJNp2w"
      },
      "outputs": [],
      "source": [
        "# SORTING\n",
        "\n",
        "data=data.sort_values(by='diffusion_output_heat',ascending=False)\n",
        "print(data)"
      ]
    },
    {
      "cell_type": "markdown",
      "metadata": {
        "id": "JLea6W4HVDwS"
      },
      "source": [
        "### Evaluation"
      ]
    },
    {
      "cell_type": "code",
      "execution_count": null,
      "metadata": {
        "id": "3voGYgPn9wVO"
      },
      "outputs": [],
      "source": [
        "# INITIALIZATION BEFORE DIFFUSION EVALUATION\n",
        "\n",
        "Pre_con_diffusion_results={}\n",
        "Pre_con_diffusion_results['precision']={}\n",
        "Pre_con_diffusion_results['recall']={}\n",
        "Pre_con_diffusion_results['f1_score']={}\n",
        "\n",
        "for i in Pre_con_diffusion_results.keys():\n",
        "    Pre_con_diffusion_results[i]['std_valid']={}\n",
        "    Pre_con_diffusion_results[i]['ext_valid']={}\n"
      ]
    },
    {
      "cell_type": "code",
      "execution_count": null,
      "metadata": {
        "id": "ffeco111W1so"
      },
      "outputs": [],
      "source": [
        "# AUXILIARY FUNCTION (to check)\n",
        "\n",
        "def D_evaluation(top_n, disease_dict, DGA=DGA_all, data=data):\n",
        "    \n",
        "    recall_=[]\n",
        "    f1_score_=[]\n",
        "    precision_=[]\n",
        "\n",
        "    recall_all=[]\n",
        "    f1_score_all=[]\n",
        "    precision_all=[]\n",
        "    \n",
        "    all_DGA=set(DGA[DGA['diseaseName'] == 'Hypertensive disease'].geneId)\n",
        "\n",
        "    for i in range(5):\n",
        "        ids=DGA[DGA.geneSymbol.isin(dict_[str(i)])].geneId.tolist()\n",
        "        probe_length=len(ids)\n",
        "        new=data[0:top_n]\n",
        "\n",
        "        num=len(set(new).intersection(ids))\n",
        "        pre=num/top_n\n",
        "        precision_.append(pre)\n",
        "        rec=num/len(ids)\n",
        "        recall_.append(rec)\n",
        "        f1=2*(pre*rec)/(pre+rec+0.0001)\n",
        "        f1_score_.append(f1)\n",
        "\n",
        "        TP=set(new).intersection(ids)\n",
        "        FP=[x for x in new if x not in ids]\n",
        "        FP=FP[:len(ids)]\n",
        "\n",
        "        num=len(set(FP).intersection(all_DGA))\n",
        "        pre=num/len(FP)\n",
        "        rec=num/len(all_DGA)\n",
        "        f1=2*(pre*rec)/(pre+rec+0.0001)\n",
        "        precision_all.append(pre)\n",
        "        recall_all.append(rec)\n",
        "        f1_score_all.append(f1)\n",
        "    \n",
        "    disease_dict['precision']['std_valid'][str(top_n)]={}\n",
        "    disease_dict['precision']['std_valid'][str(top_n)]['mean']=np.average(precision_)\n",
        "    disease_dict['precision']['std_valid'][str(top_n)]['sd']=np.std(precision_)\n",
        "\n",
        "    disease_dict['recall']['std_valid'][str(top_n)]={}\n",
        "    disease_dict['recall']['std_valid'][str(top_n)]['mean']=np.average(recall_)\n",
        "    disease_dict['recall']['std_valid'][str(top_n)]['sd']=np.std(recall_)\n",
        "\n",
        "    disease_dict['f1_score']['std_valid'][str(top_n)]={}\n",
        "    disease_dict['f1_score']['std_valid'][str(top_n)]['mean']=np.average(f1_score_)\n",
        "    disease_dict['f1_score']['std_valid'][str(top_n)]['sd']=np.std(f1_score_)\n",
        "\n",
        "    disease_dict['precision']['ext_valid'][str(top_n)]={}\n",
        "    disease_dict['precision']['ext_valid'][str(top_n)]['mean']=np.average(precision_all)\n",
        "    disease_dict['precision']['ext_valid'][str(top_n)]['sd']=np.std(precision_all)\n",
        "\n",
        "    disease_dict['recall']['ext_valid'][str(top_n)]={}\n",
        "    disease_dict['recall']['ext_valid'][str(top_n)]['mean']=np.average(recall_all)\n",
        "    disease_dict['recall']['ext_valid'][str(top_n)]['sd']=np.std(recall_all)\n",
        "\n",
        "    disease_dict['f1_score']['ext_valid'][str(top_n)]={}\n",
        "    disease_dict['f1_score']['ext_valid'][str(top_n)]['mean']=np.average(f1_score_all)\n",
        "    disease_dict['f1_score']['ext_valid'][str(top_n)]['sd']=np.std(f1_score_all)\n",
        "\n"
      ]
    },
    {
      "cell_type": "code",
      "execution_count": null,
      "metadata": {
        "id": "dtrMfNlnMXlj"
      },
      "outputs": [],
      "source": [
        "# DIFFUSION ALGORITHM EVALUATION \n",
        "\n",
        "for size in [100,250,500,1000]:\n",
        "    D_evaluation(size,Pre_con_diffusion_results)"
      ]
    },
    {
      "cell_type": "code",
      "execution_count": null,
      "metadata": {
        "id": "k-xnk2eL9k8p"
      },
      "outputs": [],
      "source": [
        "# DISPLAY THE RESULTS\n",
        "\n",
        "AF.display_dict(Pre_con_diffusion_results) "
      ]
    },
    {
      "cell_type": "markdown",
      "source": [
        "### Diffusion algorithm with Cytoscape"
      ],
      "metadata": {
        "id": "oWvRyoyN_rxl"
      }
    },
    {
      "cell_type": "code",
      "source": [
        "# DIFFUSION ALGORITHM EVALUATION\n",
        "\n",
        "cval = 58\n",
        "\n",
        "for t in [0.01,0.002,0.005]:\n",
        "    print(\"t is \",t)\n",
        "    for at in [50,25,15,1]:\n",
        "      print(\"metrics at\",at)\n",
        "      recall= []\n",
        "      precision = []             \n",
        "      F1_score = []\n",
        "\n",
        "      top_n = at\n",
        "      recall= []\n",
        "      precision = []             \n",
        "      F1_score = []\n",
        "      \n",
        "      m = AF.evaluationDiffusion(top_n, cval, t,0,path)\n",
        "      recall.append(m['recall'])\n",
        "      precision.append(m['precision'])\n",
        "      F1_score.append(m['F1 Score'])\n",
        "\n",
        "      m = AF.evaluationDiffusion(top_n, cval, t,1,path)\n",
        "     \n",
        "      recall.append(m['recall'])\n",
        "      precision.append(m['precision'])\n",
        "      F1_score.append(m['F1 Score'])\n",
        "\n",
        "      m = AF.evaluationDiffusion(top_n, cval, t,2,path)\n",
        "      \n",
        "      recall.append(m['recall'])\n",
        "      precision.append(m['precision'])\n",
        "      F1_score.append(m['F1 Score'])\n",
        "\n",
        "      m = AF.evaluationDiffusion(top_n, cval, t,3,path)\n",
        "      \n",
        "      recall.append(m['recall'])\n",
        "      precision.append(m['precision'])\n",
        "      F1_score.append(m['F1 Score'])\n",
        "\n",
        "      m = AF.evaluationDiffusion(top_n, cval, t,4,path)\n",
        "      \n",
        "      recall.append(m['recall'])\n",
        "      precision.append(m['precision'])\n",
        "      F1_score.append(m['F1 Score'])\n",
        "\n",
        "      recall_value = statistics.mean(recall)\n",
        "      precision_value= statistics.mean(precision)\n",
        "      F1_score_value = statistics.mean(F1_score)\n",
        "\n",
        "      print(recall_value)\n",
        "      print(precision_value)\n",
        "      print(F1_score_value)"
      ],
      "metadata": {
        "id": "GbmARkXj_uaC",
        "outputId": "5270f444-fb09-471a-bb0c-9e55b3821439",
        "colab": {
          "base_uri": "https://localhost:8080/"
        }
      },
      "execution_count": null,
      "outputs": [
        {
          "output_type": "stream",
          "name": "stdout",
          "text": [
            "t is  0.01\n",
            "metrics at 50\n",
            "0\n",
            "0\n",
            "0\n",
            "metrics at 25\n",
            "0\n",
            "0\n",
            "0\n",
            "metrics at 15\n",
            "0\n",
            "0\n",
            "0\n",
            "metrics at 1\n",
            "0\n",
            "0.2\n",
            "0\n",
            "t is  0.002\n",
            "metrics at 50\n",
            "0\n",
            "0\n",
            "0\n",
            "metrics at 25\n",
            "0\n",
            "0\n",
            "0\n",
            "metrics at 15\n",
            "0\n",
            "0\n",
            "0\n",
            "metrics at 1\n",
            "0\n",
            "0\n",
            "0\n",
            "t is  0.005\n",
            "metrics at 50\n",
            "0\n",
            "0\n",
            "0\n",
            "metrics at 25\n",
            "0\n",
            "0\n",
            "0\n",
            "metrics at 15\n",
            "0\n",
            "0\n",
            "0\n",
            "metrics at 1\n",
            "0\n",
            "0.4\n",
            "0\n"
          ]
        }
      ]
    },
    {
      "cell_type": "code",
      "source": [
        "cv = pd.read_csv(path + 'FinalAllSeeds.csv')\n",
        "data=cv.sort_values(by='diffusion_output_heat',ascending=False)['name']\n",
        "top = set(data[0:200])\n",
        "with open(path+'First200AllSeeds.txt','w') as f:\n",
        "  for item in top:\n",
        "      f.write(\"%s\\n\" % item)"
      ],
      "metadata": {
        "id": "InzIiWV4okQp"
      },
      "execution_count": null,
      "outputs": []
    },
    {
      "cell_type": "markdown",
      "metadata": {
        "id": "Oq9An17UPDqY"
      },
      "source": [
        "# TASK 3 . Putative disease genes identification"
      ]
    },
    {
      "cell_type": "markdown",
      "metadata": {
        "id": "zlRRy2JCPfnk"
      },
      "source": [
        "## Set up"
      ]
    },
    {
      "cell_type": "markdown",
      "metadata": {
        "id": "X2zIUbi_Va9b"
      },
      "source": [
        "## MCL"
      ]
    },
    {
      "cell_type": "code",
      "source": [
        "G = LCC"
      ],
      "metadata": {
        "id": "TOc7kW8-as1q"
      },
      "execution_count": null,
      "outputs": []
    },
    {
      "cell_type": "code",
      "execution_count": null,
      "metadata": {
        "id": "7zN33HC4PDPk"
      },
      "outputs": [],
      "source": [
        "# CLUSTERS\n",
        "# Remark . This cell takes a while to run...\n",
        "\n",
        "result = mc.run_mcl(nx.to_scipy_sparse_matrix(G))           \n",
        "clusters = mc.get_clusters(result) "
      ]
    },
    {
      "cell_type": "code",
      "execution_count": null,
      "metadata": {
        "id": "GoMQ5n_ZPVfh",
        "colab": {
          "base_uri": "https://localhost:8080/",
          "height": 321
        },
        "outputId": "9965570a-1ec2-4020-be34-ad99cf00acdf"
      },
      "outputs": [
        {
          "output_type": "stream",
          "name": "stderr",
          "text": [
            "/usr/local/lib/python3.8/dist-packages/networkx/drawing/nx_pylab.py:579: MatplotlibDeprecationWarning: \n",
            "The iterable function was deprecated in Matplotlib 3.1 and will be removed in 3.3. Use np.iterable instead.\n",
            "  if not cb.iterable(width):\n"
          ]
        },
        {
          "output_type": "display_data",
          "data": {
            "text/plain": [
              "<Figure size 432x288 with 1 Axes>"
            ],
            "image/png": "[encoded data removed]"
          },
          "metadata": {}
        }
      ],
      "source": [
        "# PLOT\n",
        "# Remark . This cell takes a while to run...\n",
        "\n",
        "mc.draw_graph(nx.to_scipy_sparse_matrix(G), clusters, node_size=10, with_labels=False, edge_color=\"silver\")"
      ]
    },
    {
      "cell_type": "code",
      "execution_count": null,
      "metadata": {
        "id": "bqu2_itqSAwt"
      },
      "outputs": [],
      "source": [
        "# CLUSTERING WITH DIFFERENT INFLATION VALUES AND MODULARITY COMPUTATION\n",
        "# Remark . This cell takes a while to run...\n",
        "# Remark . A standard RAM cannot usually carry out the computation. Do not execute\n",
        "#          if the RAM is insufficient (~32 GB should be enough)\n",
        "\n",
        "matrix = nx.to_scipy_sparse_matrix(G)\n",
        "\n",
        "for inflation in [i / 10 for i in range(15, 26)]:\n",
        "    result = mc.run_mcl(matrix, inflation=inflation)\n",
        "    clusters = mc.get_clusters(result)\n",
        "    Q = mc.modularity(matrix=result, clusters=clusters)\n",
        "    print(\"inflation:\", inflation, \"modularity:\", Q)"
      ]
    },
    {
      "cell_type": "code",
      "execution_count": null,
      "metadata": {
        "id": "kju9wDIBSKRk",
        "colab": {
          "base_uri": "https://localhost:8080/"
        },
        "outputId": "bed739ca-d4af-4120-a856-7b43944e939b"
      },
      "outputs": [
        {
          "output_type": "stream",
          "name": "stdout",
          "text": [
            "4490 203\n"
          ]
        }
      ],
      "source": [
        "# KEEP CLUSTERS WITH AT LEAST 10 GENES\n",
        "\n",
        "big_clusters = []\n",
        "for module in clusters:\n",
        "    if len(module) >= 10:\n",
        "        big_clusters.append(module)\n",
        "print(len(clusters), len(big_clusters))"
      ]
    },
    {
      "cell_type": "code",
      "execution_count": null,
      "metadata": {
        "id": "1X6OhdOrSP8k"
      },
      "outputs": [],
      "source": [
        "# DICTIONARY WITH MAPPING Ids-->Names\n",
        "\n",
        "val = range(LCC.number_of_nodes())\n",
        "names = list(LCC.nodes())\n",
        "dic = dict(zip(val, names))"
      ]
    },
    {
      "cell_type": "code",
      "execution_count": null,
      "metadata": {
        "id": "Z-dI-uSeSW-m"
      },
      "outputs": [],
      "source": [
        "# RUN HYPERGEOMETRIC TEST TO FIND MODULES WITH STATISTICALLY OVER-REPRESENTED GENES\n",
        "\n",
        "putative_desease_modules = []\n",
        "M = G.number_of_nodes()  \n",
        "n = len(seeds) \n",
        "p_val_list = []\n",
        "for module in big_clusters:\n",
        "    # number of draws (number of genes in the given cluster)\n",
        "    N = len(module) \n",
        "    x = len(set(seeds).intersection(set(dic[g] for g in module)))\n",
        "    p_val = hypergeom.sf(x-1, M, n, N)\n",
        "    if p_val < 0.05:\n",
        "        putative_desease_modules.append(module)\n",
        "        p_val_list.append(p_val)"
      ]
    },
    {
      "cell_type": "code",
      "source": [
        "# CHECK\n",
        "\n",
        "for i in range(len(putative_desease_modules)):\n",
        "    print(\"Desease putative module \",i, \": \", *[dic[g] for g in putative_desease_modules[i]])"
      ],
      "metadata": {
        "id": "Fi1rV6mIBjoD",
        "outputId": "5291394f-014e-45af-fd62-f8b00cbf1b24",
        "colab": {
          "base_uri": "https://localhost:8080/"
        }
      },
      "execution_count": null,
      "outputs": [
        {
          "output_type": "stream",
          "name": "stdout",
          "text": [
            "Desease putative module  0 :  ACVR1 UGCG BMPR1A ACVR2A BMPR2 SMAD6 BMP2 BMPR1B GDF6 ACVR2B AXL INHBA IFNGR1 ACVRL1 IGSF1 BAMBI NODAL RGMB BMP6 PLEKHH3\n",
            "Desease putative module  1 :  ITPR1 BOK TRPC6 TRPC2 TRPC1 TRPC5 TRPC4 SSFA2 TRPC3 ITPR3 TRPC7 ITPR2\n",
            "Desease putative module  2 :  NR3C1 RXRA THRB ROBO4 IL1RAPL1 ONECUT1 TNC ABCA4 NR3C2 ZXDC NR1I3 MEPE FAM160B2 SMARCAL1 THAP2 ASXL3 IL22RA2 RAD51AP2 CDH17 SMOC2 ZNF536 STK31 CDY1 ZFP82 OR2T1 ARID3C CNGB1 MC3R ZNF823 PDE6A DNAH7 TBX4 PLEKHH1 BTBD11 HIST2H2BD LOC102724159 LMOD2 LRRC37A3 DNAH12 FER1L6 ZNF442 TRIM64C WDR64 PIRT ATP13A4 WDR17 RRP7B LINC01549 SLC25A34 LINC00299 TMEM156 OR52P1P\n",
            "Desease putative module  3 :  IFT88 IFT27 IFT172 IFT57 TRAF3IP1 UBXN10 IFT81 IFT46 IFT22 CCDC151 IFT20 TTC26 IFT80 IFT74 TTC30A TTC30B IFT52 HSPB11 TFPI2 COX4I1P1\n",
            "Desease putative module  4 :  APOA1 PIKFYVE APOH GALNT4 GC APOL1 APOF APOA2 HP CP ABCA13 SERPINA1 LCAT ORM1 HPX GOT1L1 APOA4 HPR SMPDL3A ERVK-10\n",
            "Desease putative module  5 :  HECW1 NEDD4 WWP1 EPHA5 ITCH SLC38A3 SCNN1B SCNN1G MLANA KCNAB1 EPN2 PRRG3 CYYR1 SLC23A2 TMEM92 SLC22A8 KCNJ16 LINC01198 MS4A10 RASGEF1A\n",
            "Desease putative module  6 :  CCL5 CXCL1 CCL2 CXCL8 CXCR3 CCL7 CXCL13 PF4 CCR3 CCL21 CCL26 CCL13 CXCL14 CXCL2 CCL20 CXCL12 ACKR4 CXCL11 CXCL5 XCL1 XCL2 CCL28 CCL25 CCL11 PF4V1 CCL1 CCL17 CCL24 CCL27 CCL8 CXCL10 CXCL17 CXCL3 CXCL6 PPBP\n",
            "Desease putative module  7 :  CUL3 KCTD11 ENC1 KBTBD13 WNK4 TNFAIP1 OFCC1 PXDNL KBTBD2 CCDC110 WDR81 KLHL5 XDH PRAMEF12 RPL13P12 LOC646377 KCTD9P3 NDUFA4P1 RPS7P4 PRAMEF8 WDFY4\n",
            "Desease putative module  8 :  CAND2 ATP2B4 ATP2B2 HMGB3 SLC45A2 ATP2B1 ATP2B3 CYP2B6 LYPD5 C17orf78 SLAMF9\n"
          ]
        }
      ]
    },
    {
      "cell_type": "code",
      "source": [
        "# DATAFRAME WITH PUTATIVE DISEASE MODULES\n",
        "\n",
        "header = ['ModuleID', \"Number of seed genes/module\", \"Module size\", \"Seed genes\", \"All genes\", \"p-value\"]\n",
        "df_putative_desease_modules = pd.DataFrame(columns=header)\n",
        "for i in range(len(putative_desease_modules)):\n",
        "    seeds = set(seeds).intersection(set(dic[g] for g in putative_desease_modules[i]))\n",
        "    values = [i, len(seeds), len(putative_desease_modules[i]), seeds, [dic[g] for g in putative_desease_modules[i]],p_val_list[i]]\n",
        "    df = pd.DataFrame( [values], columns = header)\n",
        "    df_putative_desease_modules = df_putative_desease_modules.append(df, ignore_index=True)"
      ],
      "metadata": {
        "id": "dKkpBGVsBpNj"
      },
      "execution_count": null,
      "outputs": []
    },
    {
      "cell_type": "code",
      "source": [
        "# CHECK\n",
        "\n",
        "df_putative_desease_modules"
      ],
      "metadata": {
        "id": "ehPieKZOIFYM",
        "outputId": "c5b618f0-308b-494a-b985-f4a1d2e10692",
        "colab": {
          "base_uri": "https://localhost:8080/",
          "height": 549
        }
      },
      "execution_count": null,
      "outputs": [
        {
          "output_type": "execute_result",
          "data": {
            "text/plain": [
              "  ModuleID Number of seed genes/module Module size       Seed genes  \\\n",
              "0        0                           2          20  {ACVRL1, BMPR2}   \n",
              "1        1                           0          12               {}   \n",
              "2        2                           0          52               {}   \n",
              "3        3                           0          20               {}   \n",
              "4        4                           0          20               {}   \n",
              "5        5                           0          20               {}   \n",
              "6        6                           0          35               {}   \n",
              "7        7                           0          21               {}   \n",
              "8        8                           0          11               {}   \n",
              "\n",
              "                                           All genes   p-value  \n",
              "0  [ACVR1, UGCG, BMPR1A, ACVR2A, BMPR2, SMAD6, BM...  0.034727  \n",
              "1  [ITPR1, BOK, TRPC6, TRPC2, TRPC1, TRPC5, TRPC4...  0.013034  \n",
              "2  [NR3C1, RXRA, THRB, ROBO4, IL1RAPL1, ONECUT1, ...  0.041543  \n",
              "3  [IFT88, IFT27, IFT172, IFT57, TRAF3IP1, UBXN10...  0.003025  \n",
              "4  [APOA1, PIKFYVE, APOH, GALNT4, GC, APOL1, APOF...  0.034727  \n",
              "5  [HECW1, NEDD4, WWP1, EPHA5, ITCH, SLC38A3, SCN...  0.034727  \n",
              "6  [CCL5, CXCL1, CCL2, CXCL8, CXCR3, CCL7, CXCL13...  0.014759  \n",
              "7  [CUL3, KCTD11, ENC1, KBTBD13, WNK4, TNFAIP1, O...  0.038015  \n",
              "8  [CAND2, ATP2B4, ATP2B2, HMGB3, SLC45A2, ATP2B1...  0.010968  "
            ],
            "text/html": [
              "\n",
              "  <div id=\"df-416babbf-6f6f-4a41-aab7-d64924dcc10c\">\n",
              "    <div class=\"colab-df-container\">\n",
              "      <div>\n",
              "<style scoped>\n",
              "    .dataframe tbody tr th:only-of-type {\n",
              "        vertical-align: middle;\n",
              "    }\n",
              "\n",
              "    .dataframe tbody tr th {\n",
              "        vertical-align: top;\n",
              "    }\n",
              "\n",
              "    .dataframe thead th {\n",
              "        text-align: right;\n",
              "    }\n",
              "</style>\n",
              "<table border=\"1\" class=\"dataframe\">\n",
              "  <thead>\n",
              "    <tr style=\"text-align: right;\">\n",
              "      <th></th>\n",
              "      <th>ModuleID</th>\n",
              "      <th>Number of seed genes/module</th>\n",
              "      <th>Module size</th>\n",
              "      <th>Seed genes</th>\n",
              "      <th>All genes</th>\n",
              "      <th>p-value</th>\n",
              "    </tr>\n",
              "  </thead>\n",
              "  <tbody>\n",
              "    <tr>\n",
              "      <th>0</th>\n",
              "      <td>0</td>\n",
              "      <td>2</td>\n",
              "      <td>20</td>\n",
              "      <td>{ACVRL1, BMPR2}</td>\n",
              "      <td>[ACVR1, UGCG, BMPR1A, ACVR2A, BMPR2, SMAD6, BM...</td>\n",
              "      <td>0.034727</td>\n",
              "    </tr>\n",
              "    <tr>\n",
              "      <th>1</th>\n",
              "      <td>1</td>\n",
              "      <td>0</td>\n",
              "      <td>12</td>\n",
              "      <td>{}</td>\n",
              "      <td>[ITPR1, BOK, TRPC6, TRPC2, TRPC1, TRPC5, TRPC4...</td>\n",
              "      <td>0.013034</td>\n",
              "    </tr>\n",
              "    <tr>\n",
              "      <th>2</th>\n",
              "      <td>2</td>\n",
              "      <td>0</td>\n",
              "      <td>52</td>\n",
              "      <td>{}</td>\n",
              "      <td>[NR3C1, RXRA, THRB, ROBO4, IL1RAPL1, ONECUT1, ...</td>\n",
              "      <td>0.041543</td>\n",
              "    </tr>\n",
              "    <tr>\n",
              "      <th>3</th>\n",
              "      <td>3</td>\n",
              "      <td>0</td>\n",
              "      <td>20</td>\n",
              "      <td>{}</td>\n",
              "      <td>[IFT88, IFT27, IFT172, IFT57, TRAF3IP1, UBXN10...</td>\n",
              "      <td>0.003025</td>\n",
              "    </tr>\n",
              "    <tr>\n",
              "      <th>4</th>\n",
              "      <td>4</td>\n",
              "      <td>0</td>\n",
              "      <td>20</td>\n",
              "      <td>{}</td>\n",
              "      <td>[APOA1, PIKFYVE, APOH, GALNT4, GC, APOL1, APOF...</td>\n",
              "      <td>0.034727</td>\n",
              "    </tr>\n",
              "    <tr>\n",
              "      <th>5</th>\n",
              "      <td>5</td>\n",
              "      <td>0</td>\n",
              "      <td>20</td>\n",
              "      <td>{}</td>\n",
              "      <td>[HECW1, NEDD4, WWP1, EPHA5, ITCH, SLC38A3, SCN...</td>\n",
              "      <td>0.034727</td>\n",
              "    </tr>\n",
              "    <tr>\n",
              "      <th>6</th>\n",
              "      <td>6</td>\n",
              "      <td>0</td>\n",
              "      <td>35</td>\n",
              "      <td>{}</td>\n",
              "      <td>[CCL5, CXCL1, CCL2, CXCL8, CXCR3, CCL7, CXCL13...</td>\n",
              "      <td>0.014759</td>\n",
              "    </tr>\n",
              "    <tr>\n",
              "      <th>7</th>\n",
              "      <td>7</td>\n",
              "      <td>0</td>\n",
              "      <td>21</td>\n",
              "      <td>{}</td>\n",
              "      <td>[CUL3, KCTD11, ENC1, KBTBD13, WNK4, TNFAIP1, O...</td>\n",
              "      <td>0.038015</td>\n",
              "    </tr>\n",
              "    <tr>\n",
              "      <th>8</th>\n",
              "      <td>8</td>\n",
              "      <td>0</td>\n",
              "      <td>11</td>\n",
              "      <td>{}</td>\n",
              "      <td>[CAND2, ATP2B4, ATP2B2, HMGB3, SLC45A2, ATP2B1...</td>\n",
              "      <td>0.010968</td>\n",
              "    </tr>\n",
              "  </tbody>\n",
              "</table>\n",
              "</div>\n",
              "      <button class=\"colab-df-convert\" onclick=\"convertToInteractive('df-416babbf-6f6f-4a41-aab7-d64924dcc10c')\"\n",
              "              title=\"Convert this dataframe to an interactive table.\"\n",
              "              style=\"display:none;\">\n",
              "        \n",
              "  <svg xmlns=\"http://www.w3.org/2000/svg\" height=\"24px\"viewBox=\"0 0 24 24\"\n",
              "       width=\"24px\">\n",
              "    <path d=\"M0 0h24v24H0V0z\" fill=\"none\"/>\n",
              "    <path d=\"M18.56 5.44l.94 2.06.94-2.06 2.06-.94-2.06-.94-.94-2.06-.94 2.06-2.06.94zm-11 1L8.5 8.5l.94-2.06 2.06-.94-2.06-.94L8.5 2.5l-.94 2.06-2.06.94zm10 10l.94 2.06.94-2.06 2.06-.94-2.06-.94-.94-2.06-.94 2.06-2.06.94z\"/><path d=\"M17.41 7.96l-1.37-1.37c-.4-.4-.92-.59-1.43-.59-.52 0-1.04.2-1.43.59L10.3 9.45l-7.72 7.72c-.78.78-.78 2.05 0 2.83L4 21.41c.39.39.9.59 1.41.59.51 0 1.02-.2 1.41-.59l7.78-7.78 2.81-2.81c.8-.78.8-2.07 0-2.86zM5.41 20L4 18.59l7.72-7.72 1.47 1.35L5.41 20z\"/>\n",
              "  </svg>\n",
              "      </button>\n",
              "      \n",
              "  <style>\n",
              "    .colab-df-container {\n",
              "      display:flex;\n",
              "      flex-wrap:wrap;\n",
              "      gap: 12px;\n",
              "    }\n",
              "\n",
              "    .colab-df-convert {\n",
              "      background-color: #E8F0FE;\n",
              "      border: none;\n",
              "      border-radius: 50%;\n",
              "      cursor: pointer;\n",
              "      display: none;\n",
              "      fill: #1967D2;\n",
              "      height: 32px;\n",
              "      padding: 0 0 0 0;\n",
              "      width: 32px;\n",
              "    }\n",
              "\n",
              "    .colab-df-convert:hover {\n",
              "      background-color: #E2EBFA;\n",
              "      box-shadow: 0px 1px 2px rgba(60, 64, 67, 0.3), 0px 1px 3px 1px rgba(60, 64, 67, 0.15);\n",
              "      fill: #174EA6;\n",
              "    }\n",
              "\n",
              "    [theme=dark] .colab-df-convert {\n",
              "      background-color: #3B4455;\n",
              "      fill: #D2E3FC;\n",
              "    }\n",
              "\n",
              "    [theme=dark] .colab-df-convert:hover {\n",
              "      background-color: #434B5C;\n",
              "      box-shadow: 0px 1px 3px 1px rgba(0, 0, 0, 0.15);\n",
              "      filter: drop-shadow(0px 1px 2px rgba(0, 0, 0, 0.3));\n",
              "      fill: #FFFFFF;\n",
              "    }\n",
              "  </style>\n",
              "\n",
              "      <script>\n",
              "        const buttonEl =\n",
              "          document.querySelector('#df-416babbf-6f6f-4a41-aab7-d64924dcc10c button.colab-df-convert');\n",
              "        buttonEl.style.display =\n",
              "          google.colab.kernel.accessAllowed ? 'block' : 'none';\n",
              "\n",
              "        async function convertToInteractive(key) {\n",
              "          const element = document.querySelector('#df-416babbf-6f6f-4a41-aab7-d64924dcc10c');\n",
              "          const dataTable =\n",
              "            await google.colab.kernel.invokeFunction('convertToInteractive',\n",
              "                                                     [key], {});\n",
              "          if (!dataTable) return;\n",
              "\n",
              "          const docLinkHtml = 'Like what you see? Visit the ' +\n",
              "            '<a target=\"_blank\" href=https://colab.research.google.com/notebooks/data_table.ipynb>data table notebook</a>'\n",
              "            + ' to learn more about interactive tables.';\n",
              "          element.innerHTML = '';\n",
              "          dataTable['output_type'] = 'display_data';\n",
              "          await google.colab.output.renderOutput(dataTable, element);\n",
              "          const docLink = document.createElement('div');\n",
              "          docLink.innerHTML = docLinkHtml;\n",
              "          element.appendChild(docLink);\n",
              "        }\n",
              "      </script>\n",
              "    </div>\n",
              "  </div>\n",
              "  "
            ]
          },
          "metadata": {},
          "execution_count": 48
        }
      ]
    },
    {
      "cell_type": "code",
      "source": [
        "# SAVE DATAFRAME TO csv FILE\n",
        "\n",
        "df_putative_desease_modules.to_csv(path+'df_putative_desease_modules.csv', index = True, header = True)"
      ],
      "metadata": {
        "id": "-sqvxQsLoD1M"
      },
      "execution_count": null,
      "outputs": []
    },
    {
      "cell_type": "markdown",
      "source": [
        "# Task 4 . Best algorithm choice and putative disease gene identification"
      ],
      "metadata": {
        "id": "C5_c6BsPOQzW"
      }
    },
    {
      "cell_type": "markdown",
      "source": [
        "..."
      ],
      "metadata": {
        "id": "4jzwY60xOSlJ"
      }
    },
    {
      "cell_type": "markdown",
      "source": [
        "# Task 5 . Drug Repurposing"
      ],
      "metadata": {
        "id": "d_dQxIUPOWCP"
      }
    },
    {
      "cell_type": "markdown",
      "source": [
        "Taken the 20 seed genes with highest `diffusion_output_heat` we leveraged the dgidb database (see, https://www.dgidb.org) and we selected the best six drugs w.r.t. its association with the previous 20 genes. "
      ],
      "metadata": {
        "id": "YO6IlPLGb-4a"
      }
    },
    {
      "cell_type": "code",
      "source": [
        "df = pd.read_csv(path+'dgidb_final.tsv',sep = '\\t')"
      ],
      "metadata": {
        "id": "nAY6JmSDOTRz"
      },
      "execution_count": null,
      "outputs": []
    },
    {
      "cell_type": "code",
      "source": [
        "AF.find_best_drugs(df)"
      ],
      "metadata": {
        "colab": {
          "base_uri": "https://localhost:8080/"
        },
        "id": "H7bO4rKjOaOd",
        "outputId": "6292c04a-6ec3-41e6-e224-d45c643860ce"
      },
      "execution_count": null,
      "outputs": [
        {
          "output_type": "execute_result",
          "data": {
            "text/plain": [
              "['TAMOXIFEN',\n",
              " 'IMIPRAMINE',\n",
              " 'AMOXAPINE',\n",
              " 'DESIPRAMINE',\n",
              " 'PROTRIPTYLINE',\n",
              " 'PSEUDOEPHEDRINE']"
            ]
          },
          "metadata": {},
          "execution_count": 36
        }
      ]
    }
  ],
  "metadata": {
    "colab": {
      "provenance": [],
      "include_colab_link": true
    },
    "gpuClass": "standard",
    "kernelspec": {
      "display_name": "Python 3 (ipykernel)",
      "language": "python",
      "name": "python3"
    },
    "language_info": {
      "codemirror_mode": {
        "name": "ipython",
        "version": 3
      },
      "file_extension": ".py",
      "mimetype": "text/x-python",
      "name": "python",
      "nbconvert_exporter": "python",
      "pygments_lexer": "ipython3",
      "version": "3.9.13"
    }
  },
  "nbformat": 4,
  "nbformat_minor": 0
}